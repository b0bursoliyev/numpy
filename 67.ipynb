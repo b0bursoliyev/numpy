{
 "cells": [
  {
   "attachments": {},
   "cell_type": "markdown",
   "metadata": {},
   "source": [
    "Numpy functions"
   ]
  },
  {
   "cell_type": "code",
   "execution_count": null,
   "metadata": {},
   "outputs": [],
   "source": [
    "import numpy as np\n",
    "np.array()\n",
    "np.arange()\n",
    "np.linspace()\n",
    "np.logspace()\n",
    "np.geomspace()\n",
    "np.zeros()\n",
    "np.zeros_like()\n",
    "np.ones()\n",
    "np.ones_like()\n",
    "np.empty()\n",
    "np.empty_like()\n",
    "np.full()\n",
    "np.full_like()\n",
    "np.eye()\n",
    "np.identity()\n",
    "np.diag()\n",
    "np.diagflat()\n",
    "np.tri()\n",
    "np.tril()\n",
    "np.triu()\n",
    "\n",
    "np.finfo(type)\n",
    "np.iinfo(type)"
   ]
  },
  {
   "cell_type": "code",
   "execution_count": 72,
   "metadata": {},
   "outputs": [],
   "source": [
    "import numpy as np"
   ]
  },
  {
   "cell_type": "code",
   "execution_count": 6,
   "metadata": {},
   "outputs": [
    {
     "name": "stdout",
     "output_type": "stream",
     "text": [
      "[  10.  100. 1000.]\n"
     ]
    }
   ],
   "source": [
    "a = np.logspace(1,3,3)\n",
    "print(a)"
   ]
  },
  {
   "cell_type": "code",
   "execution_count": 16,
   "metadata": {},
   "outputs": [
    {
     "name": "stdout",
     "output_type": "stream",
     "text": [
      "[ 1.          3.6840315  13.57208808 50.        ]\n",
      "1.00 3.68 13.57 50.00 "
     ]
    }
   ],
   "source": [
    "a = np.geomspace(1,50,4)\n",
    "print(a)\n",
    "for i in a:\n",
    "  print(\"%.2f\" % i,end=' ')"
   ]
  },
  {
   "cell_type": "code",
   "execution_count": 70,
   "metadata": {},
   "outputs": [
    {
     "name": "stdout",
     "output_type": "stream",
     "text": [
      "[[[0 0 0 0 0]\n",
      "  [0 0 0 0 0]\n",
      "  [0 0 0 0 0]]\n",
      "\n",
      " [[0 0 0 0 0]\n",
      "  [0 0 0 0 0]\n",
      "  [0 0 0 0 0]]\n",
      "\n",
      " [[0 0 0 0 0]\n",
      "  [0 0 0 0 0]\n",
      "  [0 0 0 0 0]]]\n"
     ]
    }
   ],
   "source": [
    "b = np.zeros((3,3,5),dtype=np.int8)\n",
    "print(b)"
   ]
  },
  {
   "cell_type": "code",
   "execution_count": 77,
   "metadata": {},
   "outputs": [
    {
     "name": "stdout",
     "output_type": "stream",
     "text": [
      "[[0. 0. 0. 0.]\n",
      " [0. 0. 0. 0.]]\n"
     ]
    }
   ],
   "source": [
    "b = np.zeros_like([[1,2,3,4],[7,8,9,5]],dtype=np.float16)\n",
    "print(b)"
   ]
  },
  {
   "cell_type": "code",
   "execution_count": 86,
   "metadata": {},
   "outputs": [
    {
     "name": "stdout",
     "output_type": "stream",
     "text": [
      "[[         0          0 1386262960]\n",
      " [     32764          1          0]\n",
      " [        -1         -1    7536640]]\n"
     ]
    }
   ],
   "source": [
    "a = np.empty((3,3),dtype='int32')\n",
    "print(a)\n"
   ]
  },
  {
   "cell_type": "code",
   "execution_count": 90,
   "metadata": {},
   "outputs": [
    {
     "data": {
      "text/plain": [
       "array([[5, 1, 7, 2],\n",
       "       [5, 1, 7, 2],\n",
       "       [5, 1, 7, 2],\n",
       "       [5, 1, 7, 2],\n",
       "       [5, 1, 7, 2]])"
      ]
     },
     "execution_count": 90,
     "metadata": {},
     "output_type": "execute_result"
    }
   ],
   "source": [
    "np.full((5,4),[5,1,7,2])"
   ]
  },
  {
   "cell_type": "code",
   "execution_count": 92,
   "metadata": {},
   "outputs": [
    {
     "data": {
      "text/plain": [
       "array([0.5, 0.5, 0.5, 0.5, 0.5, 0.5, 0.5, 0.5], dtype=float16)"
      ]
     },
     "execution_count": 92,
     "metadata": {},
     "output_type": "execute_result"
    }
   ],
   "source": [
    "a = np.array([1,2,3,4,5,6,7,8],dtype=np.float16)\n",
    "np.full_like(a,0.5)"
   ]
  },
  {
   "cell_type": "code",
   "execution_count": 3,
   "metadata": {},
   "outputs": [
    {
     "data": {
      "text/plain": [
       "array([[1., 0., 0.],\n",
       "       [0., 1., 0.],\n",
       "       [0., 0., 1.]])"
      ]
     },
     "execution_count": 3,
     "metadata": {},
     "output_type": "execute_result"
    }
   ],
   "source": [
    "import numpy as np\n",
    "np.eye(3,3)"
   ]
  },
  {
   "cell_type": "code",
   "execution_count": 6,
   "metadata": {},
   "outputs": [
    {
     "name": "stdout",
     "output_type": "stream",
     "text": [
      "[[1. 0. 0.]\n",
      " [0. 1. 0.]\n",
      " [0. 0. 1.]]\n"
     ]
    },
    {
     "data": {
      "text/plain": [
       "(3, 3)"
      ]
     },
     "execution_count": 6,
     "metadata": {},
     "output_type": "execute_result"
    }
   ],
   "source": [
    "a = np.identity(3)\n",
    "print(a)\n",
    "a.shape"
   ]
  },
  {
   "cell_type": "code",
   "execution_count": 111,
   "metadata": {},
   "outputs": [
    {
     "name": "stdout",
     "output_type": "stream",
     "text": [
      "[[0.9229989  0.79186733 0.36672602 0.70456336]\n",
      " [0.62887033 0.22928274 0.41661806 0.4378488 ]\n",
      " [0.55134873 0.93697901 0.92539698 0.96604701]\n",
      " [0.92210503 0.86162537 0.46522829 0.82178028]]\n",
      "[0.9229989  0.22928274 0.92539698 0.82178028]\n"
     ]
    }
   ],
   "source": [
    "a = np.random.random(16).reshape(4,4)\n",
    "print(a)\n",
    "print(np.diag(a))"
   ]
  },
  {
   "cell_type": "code",
   "execution_count": 113,
   "metadata": {},
   "outputs": [
    {
     "name": "stdout",
     "output_type": "stream",
     "text": [
      "[[1 0 0]\n",
      " [0 2 0]\n",
      " [0 0 3]]\n"
     ]
    }
   ],
   "source": [
    "a = np.diagflat([1,2,3])\n",
    "print(a)"
   ]
  },
  {
   "cell_type": "code",
   "execution_count": 129,
   "metadata": {},
   "outputs": [
    {
     "name": "stdout",
     "output_type": "stream",
     "text": [
      "[[1. 0. 0.]\n",
      " [1. 1. 0.]\n",
      " [1. 1. 1.]] \n",
      " \n",
      " [[1. 0. 0.]\n",
      " [1. 1. 0.]\n",
      " [1. 1. 1.]]\n"
     ]
    }
   ],
   "source": [
    "b=(np.tri(3))\n",
    "a = np.array([[1,0,0],\n",
    "     [1,1,0],\n",
    "     [1,1,1]],dtype='float')\n",
    "a = np.tril(a)\n",
    "print(b,'\\n','\\n',a)"
   ]
  },
  {
   "cell_type": "code",
   "execution_count": 132,
   "metadata": {},
   "outputs": [
    {
     "data": {
      "text/plain": [
       "array([[0., 0., 0., 0.],\n",
       "       [1., 0., 0., 0.],\n",
       "       [1., 1., 0., 0.]])"
      ]
     },
     "execution_count": 132,
     "metadata": {},
     "output_type": "execute_result"
    }
   ],
   "source": [
    "np.tri(3,4,-1)"
   ]
  },
  {
   "cell_type": "code",
   "execution_count": 124,
   "metadata": {},
   "outputs": [
    {
     "name": "stdout",
     "output_type": "stream",
     "text": [
      "[[0.31822818 0.         0.        ]\n",
      " [0.27243278 0.87199451 0.        ]\n",
      " [0.97683452 0.4403414  0.18404666]]\n"
     ]
    }
   ],
   "source": [
    "a = np.random.random(9).reshape(3,3)\n",
    "a = np.tril(a)\n",
    "print(a)"
   ]
  },
  {
   "cell_type": "code",
   "execution_count": 122,
   "metadata": {},
   "outputs": [
    {
     "name": "stdout",
     "output_type": "stream",
     "text": [
      "[[0.6762313  0.70139114 0.47357974 0.24796035]\n",
      " [0.         0.30387137 0.37268797 0.23546458]\n",
      " [0.         0.         0.78730145 0.94855425]]\n"
     ]
    }
   ],
   "source": [
    "a = np.random.random(12).reshape(3,4)\n",
    "a = np.triu(a)\n",
    "print(a)"
   ]
  },
  {
   "cell_type": "code",
   "execution_count": 135,
   "metadata": {},
   "outputs": [
    {
     "name": "stdout",
     "output_type": "stream",
     "text": [
      "8\n",
      "96\n"
     ]
    }
   ],
   "source": [
    "a = np.random.random(12).reshape(3,4)\n",
    "print(a.itemsize)\n",
    "print(a.nbytes)"
   ]
  },
  {
   "attachments": {},
   "cell_type": "markdown",
   "metadata": {},
   "source": [
    "Indexsing"
   ]
  },
  {
   "cell_type": "code",
   "execution_count": 141,
   "metadata": {},
   "outputs": [
    {
     "name": "stdout",
     "output_type": "stream",
     "text": [
      "[[1 2 3 4]\n",
      " [5 6 7 8]]\n",
      "[[7 8]]\n",
      "[2 8 7 2 4 7 5 6 3]\n",
      "[5 6 7 8]\n",
      "[1 2 5 8]\n"
     ]
    }
   ],
   "source": [
    "a = np.array([1,2,3,4,5,6,7,8]).reshape(2,4)\n",
    "print(a)\n",
    "print(a[1:,2:])\n",
    "print(a[(0,1,1,0,0,1,1,1,0),\n",
    "        (1,3,2,1,3,2,0,1,2)])\n",
    "print(a[a>4])\n",
    "b = np.array([True,True,False,False,True,False,False,True]).reshape(2,4)\n",
    "print(a[b])\n"
   ]
  },
  {
   "attachments": {},
   "cell_type": "markdown",
   "metadata": {},
   "source": [
    "Operato'rs\n",
    "+ - * / // @ & ^  |"
   ]
  },
  {
   "cell_type": "code",
   "execution_count": 144,
   "metadata": {},
   "outputs": [
    {
     "name": "stdout",
     "output_type": "stream",
     "text": [
      "[2 0 2]\n",
      "[0 3 1]\n",
      "24\n"
     ]
    }
   ],
   "source": [
    "a = np.array([2,3,5])\n",
    "b = np.array([1,4,2])\n",
    "print(a//b) \n",
    "print(a%b)\n",
    "print(a@b)"
   ]
  },
  {
   "cell_type": "code",
   "execution_count": 5,
   "metadata": {},
   "outputs": [
    {
     "name": "stdout",
     "output_type": "stream",
     "text": [
      "[0 0 0 0 4 0 0 1 0]\n",
      "[ 3  7  7  7  2 13 14  8 30]\n"
     ]
    }
   ],
   "source": [
    "a = np.array([2,3,5,4,4,9,6,1,22])\n",
    "b = np.array([1,4,2,3,6,4,8,9,8])\n",
    "print(a&b)\n",
    "print(a^b)"
   ]
  },
  {
   "attachments": {},
   "cell_type": "markdown",
   "metadata": {},
   "source": [
    "python functions for array"
   ]
  },
  {
   "cell_type": "code",
   "execution_count": 166,
   "metadata": {},
   "outputs": [
    {
     "name": "stdout",
     "output_type": "stream",
     "text": [
      "[[[0.78    0.6226  0.3953 ]\n",
      "  [0.9873  0.528   0.4668 ]\n",
      "  [0.1587  0.8877  0.2162 ]]\n",
      "\n",
      " [[0.4675  0.1501  0.0319 ]\n",
      "  [0.1857  0.2957  0.0327 ]\n",
      "  [0.3171  0.04254 0.6147 ]]\n",
      "\n",
      " [[0.52    0.9385  0.9087 ]\n",
      "  [0.7686  0.2903  0.2141 ]\n",
      "  [0.2678  0.743   0.0918 ]]]\n",
      "0.9873\n",
      "0.0319\n",
      "[[0.78   0.9873 0.8877]\n",
      " [0.4675 0.2957 0.6147]\n",
      " [0.9385 0.7686 0.743 ]]\n"
     ]
    }
   ],
   "source": [
    "a = np.array(np.random.random(27).reshape(3,3,3),dtype=np.float16)\n",
    "print(a)\n",
    "print(a.max())\n",
    "print(a.min())\n",
    "print(a.max(axis=2))"
   ]
  },
  {
   "cell_type": "code",
   "execution_count": 2,
   "metadata": {},
   "outputs": [
    {
     "name": "stdout",
     "output_type": "stream",
     "text": [
      "[[[ 0  1  2]\n",
      "  [ 3  4  5]\n",
      "  [ 6  7  8]]\n",
      "\n",
      " [[ 9 10 11]\n",
      "  [12 13 14]\n",
      "  [15 16 17]]\n",
      "\n",
      " [[18 19 20]\n",
      "  [21 22 23]\n",
      "  [24 25 26]]]\n"
     ]
    },
    {
     "data": {
      "text/plain": [
       "array([[27, 30, 33],\n",
       "       [36, 39, 42],\n",
       "       [45, 48, 51]])"
      ]
     },
     "execution_count": 2,
     "metadata": {},
     "output_type": "execute_result"
    }
   ],
   "source": [
    "import numpy as np\n",
    "a= np.arange(27).reshape(3,3,3)\n",
    "print(a)\n",
    "np.sum(a,axis=0)"
   ]
  },
  {
   "cell_type": "code",
   "execution_count": 189,
   "metadata": {},
   "outputs": [
    {
     "name": "stdout",
     "output_type": "stream",
     "text": [
      "True\n",
      "[False False  True False]\n",
      "[5]\n"
     ]
    }
   ],
   "source": [
    "a = np.array((1,2,5,4))\n",
    "b = np.array((2,5,4,6))\n",
    "print((a>=b).any())\n",
    "print(a>=b)\n",
    "a= a[a>b]\n",
    "print(a)\n",
    "#any find 'True'\n",
    "#all find 'False'"
   ]
  },
  {
   "attachments": {},
   "cell_type": "markdown",
   "metadata": {},
   "source": [
    "sort and search"
   ]
  },
  {
   "cell_type": "code",
   "execution_count": 10,
   "metadata": {},
   "outputs": [
    {
     "name": "stdout",
     "output_type": "stream",
     "text": [
      "[[[0.28547458 0.38552896 0.03699252]\n",
      "  [0.15191857 0.9197822  0.71379974]\n",
      "  [0.23630217 0.86172592 0.29198627]]\n",
      "\n",
      " [[0.86494    0.05505545 0.01219245]\n",
      "  [0.17122869 0.78927789 0.75259968]\n",
      "  [0.66295021 0.62782823 0.78632243]]\n",
      "\n",
      " [[0.31778137 0.38112781 0.49677419]\n",
      "  [0.92451039 0.93496472 0.43422358]\n",
      "  [0.09708526 0.2444776  0.19513732]]]\n",
      "\n",
      "\n",
      "[[[0.15191857 0.38552896 0.03699252]\n",
      "  [0.23630217 0.86172592 0.29198627]\n",
      "  [0.28547458 0.9197822  0.71379974]]\n",
      "\n",
      " [[0.17122869 0.05505545 0.01219245]\n",
      "  [0.66295021 0.62782823 0.75259968]\n",
      "  [0.86494    0.78927789 0.78632243]]\n",
      "\n",
      " [[0.09708526 0.2444776  0.19513732]\n",
      "  [0.31778137 0.38112781 0.43422358]\n",
      "  [0.92451039 0.93496472 0.49677419]]]\n"
     ]
    }
   ],
   "source": [
    "a = np.random.random(27).reshape(3,3,3)\n",
    "print(a)\n",
    "print('\\n')\n",
    "print(np.sort(a,axis=1))"
   ]
  },
  {
   "cell_type": "code",
   "execution_count": 210,
   "metadata": {},
   "outputs": [
    {
     "name": "stdout",
     "output_type": "stream",
     "text": [
      "0 18 Xolavat\n",
      "1 19 Ismoil\n",
      "2 20 Bobur\n"
     ]
    }
   ],
   "source": [
    "class Talaba:\n",
    "    def __init__(self,ismi,yoshi,kursi) -> None:\n",
    "        self.ismi = ismi\n",
    "        self.yoshi = yoshi\n",
    "        self.kursi = kursi       \n",
    "talabalar = [Talaba('Ismoil',19,1),Talaba('Bobur',20,2),Talaba('Xolavat',18,0)]\n",
    "for i in sorted(talabalar,key=lambda x:x.kursi):\n",
    "    print(i.kursi,i.yoshi,i.ismi)\n",
    "\n"
   ]
  },
  {
   "cell_type": "code",
   "execution_count": 11,
   "metadata": {},
   "outputs": [],
   "source": [
    "import numpy as np"
   ]
  },
  {
   "cell_type": "code",
   "execution_count": 8,
   "metadata": {},
   "outputs": [
    {
     "name": "stdout",
     "output_type": "stream",
     "text": [
      "[('Xolavat', 18, 3) ('Ismoil', 19, 1) ('Bobur', 20, 2)]\n"
     ]
    }
   ],
   "source": [
    "dtypes = [(\"Ismi\",'U10'),('Yoshi','int8'),('Kursi','int8')]\n",
    "a = np.array([('Ismoil',19,1),('Bobur',20,2),('Xolavat',18,3)],dtype=dtypes)\n",
    "print(np.sort(a,order='Yoshi'))"
   ]
  },
  {
   "cell_type": "code",
   "execution_count": 19,
   "metadata": {},
   "outputs": [
    {
     "name": "stdout",
     "output_type": "stream",
     "text": [
      "[0.         1.57079633 3.14159265 4.71238898]\n",
      "[0.         1.25331414 1.77245385 2.17080376]\n",
      "[  1.           4.81047738  23.14069263 111.31777849]\n"
     ]
    }
   ],
   "source": [
    "a = np.arange(0,2*np.pi,np.pi/2)\n",
    "print(a)\n",
    "print(np.sqrt(a))\n",
    "print(np.exp(a))\n"
   ]
  }
 ],
 "metadata": {
  "kernelspec": {
   "display_name": "Python 3",
   "language": "python",
   "name": "python3"
  },
  "language_info": {
   "codemirror_mode": {
    "name": "ipython",
    "version": 3
   },
   "file_extension": ".py",
   "mimetype": "text/x-python",
   "name": "python",
   "nbconvert_exporter": "python",
   "pygments_lexer": "ipython3",
   "version": "3.11.4"
  },
  "orig_nbformat": 4
 },
 "nbformat": 4,
 "nbformat_minor": 2
}
