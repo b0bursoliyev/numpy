{
 "cells": [
  {
   "cell_type": "code",
   "execution_count": 62,
   "metadata": {},
   "outputs": [
    {
     "name": "stdout",
     "output_type": "stream",
     "text": [
      "Hello\n",
      "Hello\n"
     ]
    }
   ],
   "source": [
    "class Club:\n",
    "    def __init__(self,svet) -> None:\n",
    "        self.__svet1 = svet\n",
    "    @property\n",
    "    def svet(self):\n",
    "        return self.__svet1\n",
    "    @svet.setter\n",
    "    def svet(self,om):\n",
    "        if om==\"Salom\":self.svet1 = om\n",
    "        else:pass\n",
    "    def get_motod(self):\n",
    "        return self.__svet1\n",
    "Fut=Club(\"Hello\")\n",
    "print(Fut.svet)\n",
    "print(Fut.get_motod())\n"
   ]
  },
  {
   "cell_type": "code",
   "execution_count": 63,
   "metadata": {},
   "outputs": [],
   "source": [
    "class Uzbekistan:\n",
    "    def __init__(self,poytaxt,aholi):\n",
    "        self.poytaxt = poytaxt\n",
    "        self.aholi = aholi\n",
    "    def get_poytaxt(self):\n",
    "        return self.poytaxt\n",
    "class Kazakhistan:\n",
    "    def __init__(self,poytaxt,aholi):\n",
    "        self.poytaxt = poytaxt\n",
    "        self.aholi = aholi\n",
    "    def get_poytaxt(self):\n",
    "        return self.poytaxt\n",
    "city=Kazakhistan(\"Astana\",24000000)\n",
    "city=Uzbekistan(\"Toshkent\",34000000)\n"
   ]
  },
  {
   "cell_type": "code",
   "execution_count": 64,
   "metadata": {},
   "outputs": [
    {
     "name": "stdout",
     "output_type": "stream",
     "text": [
      "Toshkent\n",
      "Toshkent\n"
     ]
    }
   ],
   "source": [
    "print(city.get_poytaxt())\n",
    "print(city.get_poytaxt())"
   ]
  },
  {
   "cell_type": "code",
   "execution_count": 65,
   "metadata": {},
   "outputs": [],
   "source": [
    "import re\n",
    "class Davlat:\n",
    "    def __init__(self,poytaxt,aholi,viloyatlar_soni) -> None:\n",
    "        self.poytaxt = poytaxt\n",
    "        self.aholi = aholi\n",
    "        self.viloyatlar_soni = viloyatlar_soni\n",
    "    @property\n",
    "    def poytaxt(self):\n",
    "        return self.__poytaxt\n",
    "    @poytaxt.setter\n",
    "    def poytaxt(self,nomi):\n",
    "        if re.match(r\"[A-Z]\",nomi):\n",
    "            self.__poytaxt = nomi\n",
    "        else:raise ValueError(\"Poytaxt nomi xato kiritilgan!\")\n",
    "\n",
    "    @property\n",
    "    def aholi(self):\n",
    "        return self.__aholi\n",
    "    @aholi.setter\n",
    "    def aholi(self,soni):\n",
    "        if re.fullmatch(r\"[0-9]+\", soni):\n",
    "            self.__aholi = soni\n",
    "        else: \n",
    "            raise ValueError(\"Aholi soni xato kiritildi! \")\n",
    "\n",
    "    @property\n",
    "    def viloyat(self):\n",
    "        return self.__viloyatlar_soni\n",
    "    @viloyat.setter\n",
    "    def viloyat(self,vsoni):\n",
    "        if re.fullmatch(r\"[0-9]+\",vsoni):\n",
    "            self.__viloyatlar_soni = vsoni\n",
    "        else: \n",
    "            raise ValueError(\"Viloyatlar soni xato kiritildi! \")\n",
    "        \n",
    "\n",
    "\n"
   ]
  },
  {
   "cell_type": "code",
   "execution_count": 66,
   "metadata": {},
   "outputs": [],
   "source": [
    "davlat1=Davlat(\"Astana\",'25000',15)"
   ]
  },
  {
   "cell_type": "code",
   "execution_count": 67,
   "metadata": {},
   "outputs": [
    {
     "name": "stdout",
     "output_type": "stream",
     "text": [
      "[1 2 3 4 5]\n",
      "<class 'numpy.ndarray'>\n"
     ]
    }
   ],
   "source": [
    "import numpy as np\n",
    "b = np.array([1,2,3,4,5])\n",
    "print(b)\n",
    "print(type(b))"
   ]
  },
  {
   "cell_type": "code",
   "execution_count": 68,
   "metadata": {},
   "outputs": [],
   "source": [
    "import time\n",
    "import random"
   ]
  },
  {
   "cell_type": "code",
   "execution_count": 75,
   "metadata": {},
   "outputs": [
    {
     "name": "stdout",
     "output_type": "stream",
     "text": [
      "5.002981 0.009474515914916992\n"
     ]
    }
   ],
   "source": [
    "a = [random.randint(1,9) for i in range(1000000)]\n",
    "start = time.time()\n",
    "print(sum(a)/len(a), time.time()-start)\n"
   ]
  },
  {
   "cell_type": "code",
   "execution_count": null,
   "metadata": {},
   "outputs": [
    {
     "name": "stdout",
     "output_type": "stream",
     "text": [
      "0.49979008926968815 0.0025320053100585938\n"
     ]
    }
   ],
   "source": [
    "b = np.random.random(1000000)\n",
    "start=time.time()\n",
    "print(np.mean(b), time.time()-start)\n"
   ]
  },
  {
   "cell_type": "code",
   "execution_count": 81,
   "metadata": {},
   "outputs": [
    {
     "name": "stdout",
     "output_type": "stream",
     "text": [
      "[5, 6, 7, 8, 9]\n"
     ]
    }
   ],
   "source": [
    "a = [int(i) for i in range(5,10)]\n",
    "print(a)"
   ]
  },
  {
   "cell_type": "code",
   "execution_count": 15,
   "metadata": {},
   "outputs": [
    {
     "name": "stdout",
     "output_type": "stream",
     "text": [
      "[1 2 3 4 5]\n"
     ]
    }
   ],
   "source": [
    "import numpy as np\n",
    "b = np.array([1,2,3,4,5])\n",
    "print(b)"
   ]
  },
  {
   "cell_type": "code",
   "execution_count": 24,
   "metadata": {},
   "outputs": [
    {
     "name": "stdout",
     "output_type": "stream",
     "text": [
      "[[1 2 3 4 5]\n",
      " [5 2 5 6 7]]\n",
      "2\n"
     ]
    }
   ],
   "source": [
    "a = np.array([[1,2,3,4,5],[5,2,5,6,7]], ndmin=2)\n",
    "print(a)\n",
    "print(a.ndim)\n"
   ]
  },
  {
   "cell_type": "code",
   "execution_count": 30,
   "metadata": {},
   "outputs": [
    {
     "name": "stdout",
     "output_type": "stream",
     "text": [
      "[1 0 1 0 1]\n"
     ]
    }
   ],
   "source": [
    "a = np.array([5,6,7,8,9])\n",
    "a=a%2\n",
    "print(a)"
   ]
  },
  {
   "cell_type": "code",
   "execution_count": 91,
   "metadata": {},
   "outputs": [
    {
     "name": "stdout",
     "output_type": "stream",
     "text": [
      "[[ 52  43 654]\n",
      " [ 51  53  74]\n",
      " [ 32  63  44]]\n"
     ]
    },
    {
     "data": {
      "text/plain": [
       "2"
      ]
     },
     "execution_count": 91,
     "metadata": {},
     "output_type": "execute_result"
    }
   ],
   "source": [
    "a=np.array([[1,2,3,4,5],[2,15,52,40,51],[11,52,43,654,55],[51,51,53,74,15],[21,32,63,44,58],[10,14,75,8,5]])\n",
    "print(a[2:5,1:4])\n",
    "a.ndim"
   ]
  },
  {
   "cell_type": "code",
   "execution_count": 92,
   "metadata": {},
   "outputs": [],
   "source": [
    "import numpy as np"
   ]
  },
  {
   "cell_type": "code",
   "execution_count": 122,
   "metadata": {},
   "outputs": [
    {
     "name": "stdout",
     "output_type": "stream",
     "text": [
      "<U64\n",
      "['45' '(5+1j)' '8.5' '6.4525']\n"
     ]
    }
   ],
   "source": [
    "a = np.array(['45',1j+5,8.5,6.4525])\n",
    "print(a.dtype)\n",
    "print(a)"
   ]
  },
  {
   "cell_type": "code",
   "execution_count": 150,
   "metadata": {},
   "outputs": [
    {
     "name": "stdout",
     "output_type": "stream",
     "text": [
      "[4.05     0.158518 8.5      6.4525  ]\n",
      "[ True  True  True  True]\n"
     ]
    }
   ],
   "source": [
    "a = np.array([4.05,0.158518,8.5,6.4525],dtype='f')\n",
    "print(a)\n",
    "a=a.astype(bool)\n",
    "print(a)"
   ]
  },
  {
   "cell_type": "code",
   "execution_count": 156,
   "metadata": {},
   "outputs": [
    {
     "name": "stdout",
     "output_type": "stream",
     "text": [
      "[[1 2 3 4 5 1]]\n",
      "(1, 6)\n",
      "[[1 2 3]\n",
      " [4 5 1]]\n"
     ]
    }
   ],
   "source": [
    "a=np.array([[1,2,3,4,5,1]])\n",
    "print(a)\n",
    "print(a.shape)\n",
    "a = a.reshape(2,3)\n",
    "print(a)"
   ]
  },
  {
   "cell_type": "code",
   "execution_count": 172,
   "metadata": {},
   "outputs": [
    {
     "name": "stdout",
     "output_type": "stream",
     "text": [
      "[[ 4  5  6]\n",
      " [ 7  8  9]\n",
      " [10 11 12]]\n"
     ]
    }
   ],
   "source": [
    "import numpy as np\n",
    "a=np.arange(4,13)\n",
    "a= a.reshape(3,3)\n",
    "print(a)"
   ]
  },
  {
   "cell_type": "code",
   "execution_count": 178,
   "metadata": {},
   "outputs": [
    {
     "name": "stdout",
     "output_type": "stream",
     "text": [
      "[[ 5  6  7]\n",
      " [ 8  9 10]\n",
      " [11 12 13]]\n",
      "[ 5  6  7  8  9 10 11 12 13]\n"
     ]
    }
   ],
   "source": [
    "\n",
    "print(np.arange(5,14).reshape(3,3))\n",
    "print(np.arange(5,14).reshape(3,3).base)"
   ]
  },
  {
   "cell_type": "code",
   "execution_count": 192,
   "metadata": {},
   "outputs": [
    {
     "name": "stdout",
     "output_type": "stream",
     "text": [
      "(5, 3)\n",
      "[[1 5 4]\n",
      " [8 7 9]\n",
      " [5 1 2]\n",
      " [6 7 5]\n",
      " [4 8 2]]\n",
      "[[1 5 4 8 7]\n",
      " [9 5 1 2 6]\n",
      " [7 5 4 8 2]]\n"
     ]
    }
   ],
   "source": [
    "a = np.array([[1,5,4,8,7],[9,5,1,2,6],[7,5,4,8,2]]).reshape(5,3)\n",
    "print(a.shape)\n",
    "print(a)\n",
    "print(a.base)"
   ]
  }
 ],
 "metadata": {
  "kernelspec": {
   "display_name": "Python 3",
   "language": "python",
   "name": "python3"
  },
  "language_info": {
   "codemirror_mode": {
    "name": "ipython",
    "version": 3
   },
   "file_extension": ".py",
   "mimetype": "text/x-python",
   "name": "python",
   "nbconvert_exporter": "python",
   "pygments_lexer": "ipython3",
   "version": "3.11.4"
  },
  "orig_nbformat": 4
 },
 "nbformat": 4,
 "nbformat_minor": 2
}
