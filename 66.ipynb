{
 "cells": [
  {
   "cell_type": "code",
   "execution_count": 1,
   "metadata": {},
   "outputs": [
    {
     "name": "stdout",
     "output_type": "stream",
     "text": [
      "[[[ 1  2  3]\n",
      "  [10  2  8]\n",
      "  [ 8  7  6]]\n",
      "\n",
      " [[ 5  6  4]\n",
      "  [14 53 19]\n",
      "  [ 6  1  9]]\n",
      "\n",
      " [[ 2  5  3]\n",
      "  [ 8  5  7]\n",
      "  [ 9  5  1]]]\n",
      "(3, 3, 3)\n"
     ]
    },
    {
     "data": {
      "text/plain": [
       "3"
      ]
     },
     "execution_count": 1,
     "metadata": {},
     "output_type": "execute_result"
    }
   ],
   "source": [
    "import numpy as np\n",
    "a = np.array([[[1,2,3],\n",
    "                 [10,2,8],\n",
    "                 [8,7,6]],\n",
    "                 [[5,6,4],\n",
    "                  [14,53,19],\n",
    "                  [6,1,9]],\n",
    "                  [[2,5,3],\n",
    "                   [8,5,7],\n",
    "                   [9,5,1]]])\n",
    "print(a)\n",
    "print(a.shape)\n",
    "a.ndim"
   ]
  },
  {
   "cell_type": "code",
   "execution_count": 2,
   "metadata": {},
   "outputs": [
    {
     "name": "stdout",
     "output_type": "stream",
     "text": [
      "['5']\n"
     ]
    }
   ],
   "source": [
    "import numpy as np\n",
    "\n",
    "a = np.array([i for i in input().split()],dtype='U3')\n",
    "print(a)\n"
   ]
  },
  {
   "cell_type": "code",
   "execution_count": 3,
   "metadata": {},
   "outputs": [
    {
     "name": "stdout",
     "output_type": "stream",
     "text": [
      "[1, 2, 3, 4, 5, 6, 7, 8, 9, 10, 11, 12, 13, 14, 15, 16, 17, 18, 19, 20, 21, 22, 23, 24, 25, 26, 27, 28, 29, 30, 31, 32, 33, 34, 35, 36, 37, 38, 39, 40, 41, 42, 43, 44, 45, 46, 47, 48, 49] "
     ]
    }
   ],
   "source": [
    "a = [i for i in range(1,50)]\n",
    "print(a,end=' ')"
   ]
  },
  {
   "cell_type": "code",
   "execution_count": 4,
   "metadata": {},
   "outputs": [
    {
     "name": "stdout",
     "output_type": "stream",
     "text": [
      "[[1 2 3 4]\n",
      " [9 8 7 6]]\n",
      "[[  1   2   3   4]\n",
      " [  9   8 100   6]]\n"
     ]
    }
   ],
   "source": [
    "a = np.array([[1,2,3,4],[9,8,7,6]])\n",
    "b= np.mat(a,dtype=np.int16)\n",
    "a[1,2]=100\n",
    "print(b)\n",
    "print(a)"
   ]
  },
  {
   "cell_type": "code",
   "execution_count": 5,
   "metadata": {},
   "outputs": [
    {
     "name": "stdout",
     "output_type": "stream",
     "text": [
      "[[1 2 3 4]\n",
      " [9 8 7 6]]\n",
      "[[  1   2   3   4]\n",
      " [  9   8 100   6]]\n"
     ]
    }
   ],
   "source": [
    "a = np.array([[1,2,3,4],[9,8,7,6]])\n",
    "b= np.mat(a,dtype=np.int16)\n",
    "a[1,2]=100\n",
    "print(b)\n",
    "print(a)"
   ]
  },
  {
   "cell_type": "code",
   "execution_count": 6,
   "metadata": {},
   "outputs": [
    {
     "name": "stdout",
     "output_type": "stream",
     "text": [
      "[1 2 3 4 5 9 8 7 4 5 9 5 1 2 4]\n"
     ]
    }
   ],
   "source": [
    "a = np.array(([1,2,3,4,5],[9,8,7,4,5],[9,5,1,2,4])).reshape(-1)\n",
    "print(a)"
   ]
  },
  {
   "cell_type": "code",
   "execution_count": 10,
   "metadata": {},
   "outputs": [
    {
     "name": "stdout",
     "output_type": "stream",
     "text": [
      "[1.00000000e+05 1.59985872e+05 2.55954792e+05 4.09491506e+05\n",
      " 6.55128557e+05 1.04811313e+06 1.67683294e+06 2.68269580e+06\n",
      " 4.29193426e+06 6.86648845e+06 1.09854114e+07 1.75751062e+07\n",
      " 2.81176870e+07 4.49843267e+07 7.19685673e+07 1.15139540e+08\n",
      " 1.84206997e+08 2.94705170e+08 4.71486636e+08 7.54312006e+08\n",
      " 1.20679264e+09 1.93069773e+09 3.08884360e+09 4.94171336e+09\n",
      " 7.90604321e+09 1.26485522e+10 2.02358965e+10 3.23745754e+10\n",
      " 5.17947468e+10 8.28642773e+10 1.32571137e+11 2.12095089e+11\n",
      " 3.39322177e+11 5.42867544e+11 8.68511374e+11 1.38949549e+12\n",
      " 2.22299648e+12 3.55648031e+12 5.68986603e+12 9.10298178e+12\n",
      " 1.45634848e+13 2.32995181e+13 3.72759372e+13 5.96362332e+13\n",
      " 9.54095476e+13 1.52641797e+14 2.44205309e+14 3.90693994e+14\n",
      " 6.25055193e+14 1.00000000e+15]\n"
     ]
    }
   ],
   "source": [
    "a = np.logspace(5,15)\n",
    "print(a)\n",
    "b= np.linspace(1,15,5,endpoint=True)"
   ]
  },
  {
   "cell_type": "code",
   "execution_count": 11,
   "metadata": {},
   "outputs": [
    {
     "name": "stdout",
     "output_type": "stream",
     "text": [
      "[[1 2 3 4]\n",
      " [5 4 6 8]\n",
      " [0 6 7 8]\n",
      " [4 8 9 6]]\n"
     ]
    },
    {
     "data": {
      "text/plain": [
       "(4, 4)"
      ]
     },
     "execution_count": 11,
     "metadata": {},
     "output_type": "execute_result"
    }
   ],
   "source": [
    "a = np.array(([[1,2,3,4],[5,4,6,8]]))\n",
    "b = np.array(([[0,6,7,8],[4,8,9,6]]))\n",
    "c=np.array(([i for i in b]+[i for i in a]))\n",
    "d = np.append(a,b)\n",
    "t=np.concatenate([a,b])\n",
    "print(t)\n",
    "#print(c,'\\n',d)\n",
    "t.shape"
   ]
  },
  {
   "cell_type": "code",
   "execution_count": 12,
   "metadata": {},
   "outputs": [
    {
     "name": "stdout",
     "output_type": "stream",
     "text": [
      "[[1 2 3 4]\n",
      " [5 4 6 8]\n",
      " [0 6 7 8]\n",
      " [4 8 9 6]]\n"
     ]
    },
    {
     "data": {
      "text/plain": [
       "(4, 4)"
      ]
     },
     "execution_count": 12,
     "metadata": {},
     "output_type": "execute_result"
    }
   ],
   "source": [
    "a = np.array(([[1,2,3,4],[5,4,6,8]]))\n",
    "b = np.array(([[0,6,7,8],[4,8,9,6]]))\n",
    "c = np.vstack([a,b])\n",
    "print(c)\n",
    "c.shape"
   ]
  },
  {
   "cell_type": "code",
   "execution_count": 13,
   "metadata": {},
   "outputs": [
    {
     "name": "stdout",
     "output_type": "stream",
     "text": [
      "[[[1 0]\n",
      "  [2 6]\n",
      "  [3 7]\n",
      "  [4 8]]\n",
      "\n",
      " [[5 4]\n",
      "  [4 8]\n",
      "  [6 9]\n",
      "  [8 6]]]\n"
     ]
    },
    {
     "data": {
      "text/plain": [
       "(2, 4, 2)"
      ]
     },
     "execution_count": 13,
     "metadata": {},
     "output_type": "execute_result"
    }
   ],
   "source": [
    "a = np.array(([[1,2,3,4],[5,4,6,8]]))\n",
    "b = np.array(([[0,6,7,8],[4,8,9,6]]))\n",
    "c = np.dstack([a,b])\n",
    "print(c)\n",
    "c.shape"
   ]
  },
  {
   "cell_type": "code",
   "execution_count": 14,
   "metadata": {},
   "outputs": [
    {
     "name": "stdout",
     "output_type": "stream",
     "text": [
      "[]\n",
      "k= 1 l= 5 n= 5\n",
      "[]\n",
      "k= 2 l= 10 n= 5\n",
      "[6, 7, 8, 9, 10]\n",
      "k= 3 l= 15 n= 5\n",
      "[6, 7, 8, 9, 10, 11, 12, 13, 14, 15]\n",
      "k= 4 l= 20 n= 5\n",
      "[6, 7, 8, 9, 10, 11, 12, 13, 14, 15, 16, 17, 18, 19, 20]\n",
      "k= 5 l= 25 n= 5\n"
     ]
    }
   ],
   "source": [
    "mas= [i for i in range(1,100)]\n",
    "n=int(input())\n",
    "k=0\n",
    "l=0\n",
    "while k<n:\n",
    "    print(mas[n:l])\n",
    "    k+=1\n",
    "    l+=n\n",
    "    print(\"k=\",k,\"l=\",l,\"n=\",n)"
   ]
  },
  {
   "cell_type": "code",
   "execution_count": 15,
   "metadata": {},
   "outputs": [
    {
     "name": "stdout",
     "output_type": "stream",
     "text": [
      "[array([1, 2, 3, 4]), array([5, 6, 7, 8])]\n"
     ]
    }
   ],
   "source": [
    "a = np.array([1,2,3,4,5,6,7,8])\n",
    "b = np.split(a,2)\n",
    "print(b)"
   ]
  },
  {
   "cell_type": "code",
   "execution_count": 16,
   "metadata": {},
   "outputs": [
    {
     "name": "stdout",
     "output_type": "stream",
     "text": [
      "5\n",
      "[array([[1, 2]]), array([[3, 4]]), array([[5, 6]]), array([[7, 8]]), array([], shape=(0, 2), dtype=int32)]\n"
     ]
    }
   ],
   "source": [
    "a = np.array([[1,2],[3,4],[5,6],[7,8]])\n",
    "b = np.array_split(a,5)\n",
    "print(len(b))\n",
    "print(b)"
   ]
  },
  {
   "cell_type": "code",
   "execution_count": 17,
   "metadata": {},
   "outputs": [
    {
     "name": "stdout",
     "output_type": "stream",
     "text": [
      "[[0 0 0 0]\n",
      " [0 0 0 0]\n",
      " [0 0 0 0]\n",
      " [0 0 0 0]]\n"
     ]
    }
   ],
   "source": [
    "a = np.zeros((4,4),dtype=int)\n",
    "print(a)"
   ]
  },
  {
   "cell_type": "code",
   "execution_count": 18,
   "metadata": {},
   "outputs": [
    {
     "name": "stdout",
     "output_type": "stream",
     "text": [
      "[[1 1 1 1]\n",
      " [1 1 1 1]\n",
      " [1 1 1 1]\n",
      " [1 1 1 1]]\n"
     ]
    }
   ],
   "source": [
    "a = np.ones((4,4),dtype=int)\n",
    "print(a)"
   ]
  },
  {
   "cell_type": "code",
   "execution_count": 19,
   "metadata": {},
   "outputs": [
    {
     "name": "stdout",
     "output_type": "stream",
     "text": [
      "[0 0]\n"
     ]
    }
   ],
   "source": [
    "a = np.zeros_like(([4,4]),dtype=int)\n",
    "print(a)"
   ]
  },
  {
   "cell_type": "code",
   "execution_count": 20,
   "metadata": {},
   "outputs": [
    {
     "name": "stdout",
     "output_type": "stream",
     "text": [
      "[[1 0 0 0 0 0]\n",
      " [1 1 0 0 0 0]\n",
      " [1 1 1 0 0 0]]\n"
     ]
    }
   ],
   "source": [
    "a = np.tri(3,6,dtype=np.int8)\n",
    "print(a)"
   ]
  },
  {
   "cell_type": "code",
   "execution_count": 21,
   "metadata": {},
   "outputs": [
    {
     "name": "stdout",
     "output_type": "stream",
     "text": [
      "[[1 0]\n",
      " [4 2]]\n"
     ]
    }
   ],
   "source": [
    "a = np.array([[1,2],\n",
    "              [5,6]])\n",
    "b = np.array(([9,8],\n",
    "              [4,2]))\n",
    "print(a&b)"
   ]
  },
  {
   "cell_type": "code",
   "execution_count": 22,
   "metadata": {},
   "outputs": [
    {
     "name": "stdout",
     "output_type": "stream",
     "text": [
      "[[17 12]\n",
      " [69 52]]\n",
      "[[17 12]\n",
      " [69 52]]\n"
     ]
    }
   ],
   "source": [
    "a = np.array([[1,2],\n",
    "              [5,6]])\n",
    "b = np.array(([9,8],\n",
    "              [4,2]))\n",
    "print(a@b)\n",
    "print(np.matmul(a,b))"
   ]
  },
  {
   "cell_type": "code",
   "execution_count": 36,
   "metadata": {},
   "outputs": [
    {
     "name": "stdout",
     "output_type": "stream",
     "text": [
      "[ -1  -3 -10  52  32  14  51]\n"
     ]
    }
   ],
   "source": [
    "a = np.array([[-1,2,-3,0,5],[-10,52,32,14,51]])\n",
    "a=a[(a<0) ^ (a>5)]\n",
    "print(a)"
   ]
  },
  {
   "cell_type": "code",
   "execution_count": 38,
   "metadata": {},
   "outputs": [
    {
     "name": "stdout",
     "output_type": "stream",
     "text": [
      "[0 0 1 1 1 1] [1 3 0 1 2 3]\n"
     ]
    }
   ],
   "source": [
    "a = np.array([[1,2,3,4,5],[10,52,32,14,51]])\n",
    "print(*np.where(a%2==0))"
   ]
  },
  {
   "cell_type": "code",
   "execution_count": 39,
   "metadata": {},
   "outputs": [
    {
     "name": "stdout",
     "output_type": "stream",
     "text": [
      "472.99999999999983\n",
      "[[-9.09090909e-02  9.09090909e-02 -9.25185854e-18]\n",
      " [-1.50105708e-01 -3.59408034e-02  1.16279070e-01]\n",
      " [ 3.38266385e-01  1.05708245e-02 -9.30232558e-02]]\n"
     ]
    }
   ],
   "source": [
    "a = np.array([[1,4,5],\n",
    "              [12,4,5],\n",
    "              [5,15,8]]) \n",
    "print(np.linalg.det(a))\n",
    "print(np.linalg.inv(a))"
   ]
  },
  {
   "cell_type": "code",
   "execution_count": 40,
   "metadata": {},
   "outputs": [
    {
     "name": "stdout",
     "output_type": "stream",
     "text": [
      "1.25.2\n"
     ]
    }
   ],
   "source": [
    "import numpy as np\n",
    "print(np.__version__)"
   ]
  }
 ],
 "metadata": {
  "kernelspec": {
   "display_name": "Python 3",
   "language": "python",
   "name": "python3"
  },
  "language_info": {
   "codemirror_mode": {
    "name": "ipython",
    "version": 3
   },
   "file_extension": ".py",
   "mimetype": "text/x-python",
   "name": "python",
   "nbconvert_exporter": "python",
   "pygments_lexer": "ipython3",
   "version": "3.11.4"
  },
  "orig_nbformat": 4
 },
 "nbformat": 4,
 "nbformat_minor": 2
}
